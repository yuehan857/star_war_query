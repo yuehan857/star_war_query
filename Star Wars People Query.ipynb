{
 "cells": [
  {
   "cell_type": "markdown",
   "metadata": {},
   "source": [
    "# Star Wars People Query"
   ]
  },
  {
   "cell_type": "code",
   "execution_count": 1,
   "metadata": {},
   "outputs": [],
   "source": [
    "import requests\n",
    "import pandas as pd\n",
    "import numpy as np"
   ]
  },
  {
   "cell_type": "code",
   "execution_count": 2,
   "metadata": {},
   "outputs": [],
   "source": [
    "# request people data\n",
    "base_url = 'http://swapi.dev/api/people/?page='\n",
    "i = 1\n",
    "people = []\n",
    "url = ''.join([base_url, str(i)])\n",
    "request = requests.get(url).json()\n",
    "while 'results' in request:\n",
    "    people += request['results']\n",
    "    i += 1\n",
    "    url = ''.join([base_url, str(i)])\n",
    "    request = requests.get(url).json() "
   ]
  },
  {
   "cell_type": "code",
   "execution_count": 3,
   "metadata": {},
   "outputs": [
    {
     "data": {
      "text/plain": [
       "{'name': 'Luke Skywalker',\n",
       " 'height': '172',\n",
       " 'mass': '77',\n",
       " 'hair_color': 'blond',\n",
       " 'skin_color': 'fair',\n",
       " 'eye_color': 'blue',\n",
       " 'birth_year': '19BBY',\n",
       " 'gender': 'male',\n",
       " 'homeworld': 'http://swapi.dev/api/planets/1/',\n",
       " 'films': ['http://swapi.dev/api/films/1/',\n",
       "  'http://swapi.dev/api/films/2/',\n",
       "  'http://swapi.dev/api/films/3/',\n",
       "  'http://swapi.dev/api/films/6/'],\n",
       " 'species': [],\n",
       " 'vehicles': ['http://swapi.dev/api/vehicles/14/',\n",
       "  'http://swapi.dev/api/vehicles/30/'],\n",
       " 'starships': ['http://swapi.dev/api/starships/12/',\n",
       "  'http://swapi.dev/api/starships/22/'],\n",
       " 'created': '2014-12-09T13:50:51.644000Z',\n",
       " 'edited': '2014-12-20T21:17:56.891000Z',\n",
       " 'url': 'http://swapi.dev/api/people/1/'}"
      ]
     },
     "execution_count": 3,
     "metadata": {},
     "output_type": "execute_result"
    }
   ],
   "source": [
    "people[0]"
   ]
  },
  {
   "cell_type": "code",
   "execution_count": 4,
   "metadata": {},
   "outputs": [
    {
     "data": {
      "text/plain": [
       "82"
      ]
     },
     "execution_count": 4,
     "metadata": {},
     "output_type": "execute_result"
    }
   ],
   "source": [
    "len(people)"
   ]
  },
  {
   "cell_type": "markdown",
   "metadata": {},
   "source": [
    "## Pandas DataFrame"
   ]
  },
  {
   "cell_type": "code",
   "execution_count": 5,
   "metadata": {},
   "outputs": [
    {
     "data": {
      "text/plain": [
       "(6, 1, 2, 5)"
      ]
     },
     "execution_count": 5,
     "metadata": {},
     "output_type": "execute_result"
    }
   ],
   "source": [
    "(\n",
    "    max([len(p['films']) for p in people]), \n",
    "    max([len(p['species']) for p in people]),\n",
    "    max([len(p['vehicles']) for p in people]),\n",
    "    max([len(p['starships']) for p in people]),\n",
    ")"
   ]
  },
  {
   "cell_type": "markdown",
   "metadata": {},
   "source": [
    "Some attributes like `films`, `species`, `vehicles`, `starships` is a list instead of a single element. Each person has only one species (or no species), so we can simplely take the element out of the list. For other attributes, we can make each one a single dataframe with `name`."
   ]
  },
  {
   "cell_type": "code",
   "execution_count": 6,
   "metadata": {},
   "outputs": [],
   "source": [
    "multiple_entries_col = ['films', 'vehicles', 'starships']"
   ]
  },
  {
   "cell_type": "code",
   "execution_count": 7,
   "metadata": {},
   "outputs": [
    {
     "data": {
      "text/html": [
       "<div>\n",
       "<style scoped>\n",
       "    .dataframe tbody tr th:only-of-type {\n",
       "        vertical-align: middle;\n",
       "    }\n",
       "\n",
       "    .dataframe tbody tr th {\n",
       "        vertical-align: top;\n",
       "    }\n",
       "\n",
       "    .dataframe thead th {\n",
       "        text-align: right;\n",
       "    }\n",
       "</style>\n",
       "<table border=\"1\" class=\"dataframe\">\n",
       "  <thead>\n",
       "    <tr style=\"text-align: right;\">\n",
       "      <th></th>\n",
       "      <th>name</th>\n",
       "      <th>height</th>\n",
       "      <th>mass</th>\n",
       "      <th>hair_color</th>\n",
       "      <th>skin_color</th>\n",
       "      <th>eye_color</th>\n",
       "      <th>birth_year</th>\n",
       "      <th>gender</th>\n",
       "      <th>homeworld</th>\n",
       "      <th>species</th>\n",
       "      <th>created</th>\n",
       "      <th>edited</th>\n",
       "      <th>url</th>\n",
       "    </tr>\n",
       "  </thead>\n",
       "  <tbody>\n",
       "    <tr>\n",
       "      <th>0</th>\n",
       "      <td>Luke Skywalker</td>\n",
       "      <td>172</td>\n",
       "      <td>77</td>\n",
       "      <td>blond</td>\n",
       "      <td>fair</td>\n",
       "      <td>blue</td>\n",
       "      <td>19BBY</td>\n",
       "      <td>male</td>\n",
       "      <td>http://swapi.dev/api/planets/1/</td>\n",
       "      <td>n/a</td>\n",
       "      <td>2014-12-09T13:50:51.644000Z</td>\n",
       "      <td>2014-12-20T21:17:56.891000Z</td>\n",
       "      <td>http://swapi.dev/api/people/1/</td>\n",
       "    </tr>\n",
       "    <tr>\n",
       "      <th>1</th>\n",
       "      <td>C-3PO</td>\n",
       "      <td>167</td>\n",
       "      <td>75</td>\n",
       "      <td>n/a</td>\n",
       "      <td>gold</td>\n",
       "      <td>yellow</td>\n",
       "      <td>112BBY</td>\n",
       "      <td>n/a</td>\n",
       "      <td>http://swapi.dev/api/planets/1/</td>\n",
       "      <td>http://swapi.dev/api/species/2/</td>\n",
       "      <td>2014-12-10T15:10:51.357000Z</td>\n",
       "      <td>2014-12-20T21:17:50.309000Z</td>\n",
       "      <td>http://swapi.dev/api/people/2/</td>\n",
       "    </tr>\n",
       "    <tr>\n",
       "      <th>2</th>\n",
       "      <td>R2-D2</td>\n",
       "      <td>96</td>\n",
       "      <td>32</td>\n",
       "      <td>n/a</td>\n",
       "      <td>white, blue</td>\n",
       "      <td>red</td>\n",
       "      <td>33BBY</td>\n",
       "      <td>n/a</td>\n",
       "      <td>http://swapi.dev/api/planets/8/</td>\n",
       "      <td>http://swapi.dev/api/species/2/</td>\n",
       "      <td>2014-12-10T15:11:50.376000Z</td>\n",
       "      <td>2014-12-20T21:17:50.311000Z</td>\n",
       "      <td>http://swapi.dev/api/people/3/</td>\n",
       "    </tr>\n",
       "    <tr>\n",
       "      <th>3</th>\n",
       "      <td>Darth Vader</td>\n",
       "      <td>202</td>\n",
       "      <td>136</td>\n",
       "      <td>none</td>\n",
       "      <td>white</td>\n",
       "      <td>yellow</td>\n",
       "      <td>41.9BBY</td>\n",
       "      <td>male</td>\n",
       "      <td>http://swapi.dev/api/planets/1/</td>\n",
       "      <td>n/a</td>\n",
       "      <td>2014-12-10T15:18:20.704000Z</td>\n",
       "      <td>2014-12-20T21:17:50.313000Z</td>\n",
       "      <td>http://swapi.dev/api/people/4/</td>\n",
       "    </tr>\n",
       "    <tr>\n",
       "      <th>4</th>\n",
       "      <td>Leia Organa</td>\n",
       "      <td>150</td>\n",
       "      <td>49</td>\n",
       "      <td>brown</td>\n",
       "      <td>light</td>\n",
       "      <td>brown</td>\n",
       "      <td>19BBY</td>\n",
       "      <td>female</td>\n",
       "      <td>http://swapi.dev/api/planets/2/</td>\n",
       "      <td>n/a</td>\n",
       "      <td>2014-12-10T15:20:09.791000Z</td>\n",
       "      <td>2014-12-20T21:17:50.315000Z</td>\n",
       "      <td>http://swapi.dev/api/people/5/</td>\n",
       "    </tr>\n",
       "  </tbody>\n",
       "</table>\n",
       "</div>"
      ],
      "text/plain": [
       "             name height mass hair_color   skin_color eye_color birth_year  \\\n",
       "0  Luke Skywalker    172   77      blond         fair      blue      19BBY   \n",
       "1           C-3PO    167   75        n/a         gold    yellow     112BBY   \n",
       "2           R2-D2     96   32        n/a  white, blue       red      33BBY   \n",
       "3     Darth Vader    202  136       none        white    yellow    41.9BBY   \n",
       "4     Leia Organa    150   49      brown        light     brown      19BBY   \n",
       "\n",
       "   gender                        homeworld                          species  \\\n",
       "0    male  http://swapi.dev/api/planets/1/                              n/a   \n",
       "1     n/a  http://swapi.dev/api/planets/1/  http://swapi.dev/api/species/2/   \n",
       "2     n/a  http://swapi.dev/api/planets/8/  http://swapi.dev/api/species/2/   \n",
       "3    male  http://swapi.dev/api/planets/1/                              n/a   \n",
       "4  female  http://swapi.dev/api/planets/2/                              n/a   \n",
       "\n",
       "                       created                       edited  \\\n",
       "0  2014-12-09T13:50:51.644000Z  2014-12-20T21:17:56.891000Z   \n",
       "1  2014-12-10T15:10:51.357000Z  2014-12-20T21:17:50.309000Z   \n",
       "2  2014-12-10T15:11:50.376000Z  2014-12-20T21:17:50.311000Z   \n",
       "3  2014-12-10T15:18:20.704000Z  2014-12-20T21:17:50.313000Z   \n",
       "4  2014-12-10T15:20:09.791000Z  2014-12-20T21:17:50.315000Z   \n",
       "\n",
       "                              url  \n",
       "0  http://swapi.dev/api/people/1/  \n",
       "1  http://swapi.dev/api/people/2/  \n",
       "2  http://swapi.dev/api/people/3/  \n",
       "3  http://swapi.dev/api/people/4/  \n",
       "4  http://swapi.dev/api/people/5/  "
      ]
     },
     "execution_count": 7,
     "metadata": {},
     "output_type": "execute_result"
    }
   ],
   "source": [
    "people_df = pd.json_normalize(people).drop(columns = multiple_entries_col)\n",
    "people_df['species'] = people_df['species'].apply(lambda x: ''.join(x) if len(x) > 0 else 'n/a')\n",
    "people_df.head()"
   ]
  },
  {
   "cell_type": "code",
   "execution_count": 8,
   "metadata": {},
   "outputs": [
    {
     "data": {
      "text/html": [
       "<div>\n",
       "<style scoped>\n",
       "    .dataframe tbody tr th:only-of-type {\n",
       "        vertical-align: middle;\n",
       "    }\n",
       "\n",
       "    .dataframe tbody tr th {\n",
       "        vertical-align: top;\n",
       "    }\n",
       "\n",
       "    .dataframe thead th {\n",
       "        text-align: right;\n",
       "    }\n",
       "</style>\n",
       "<table border=\"1\" class=\"dataframe\">\n",
       "  <thead>\n",
       "    <tr style=\"text-align: right;\">\n",
       "      <th></th>\n",
       "      <th>films</th>\n",
       "      <th>name</th>\n",
       "    </tr>\n",
       "  </thead>\n",
       "  <tbody>\n",
       "    <tr>\n",
       "      <th>0</th>\n",
       "      <td>http://swapi.dev/api/films/1/</td>\n",
       "      <td>Luke Skywalker</td>\n",
       "    </tr>\n",
       "    <tr>\n",
       "      <th>1</th>\n",
       "      <td>http://swapi.dev/api/films/2/</td>\n",
       "      <td>Luke Skywalker</td>\n",
       "    </tr>\n",
       "    <tr>\n",
       "      <th>2</th>\n",
       "      <td>http://swapi.dev/api/films/3/</td>\n",
       "      <td>Luke Skywalker</td>\n",
       "    </tr>\n",
       "    <tr>\n",
       "      <th>3</th>\n",
       "      <td>http://swapi.dev/api/films/6/</td>\n",
       "      <td>Luke Skywalker</td>\n",
       "    </tr>\n",
       "    <tr>\n",
       "      <th>4</th>\n",
       "      <td>http://swapi.dev/api/films/1/</td>\n",
       "      <td>C-3PO</td>\n",
       "    </tr>\n",
       "  </tbody>\n",
       "</table>\n",
       "</div>"
      ],
      "text/plain": [
       "                           films            name\n",
       "0  http://swapi.dev/api/films/1/  Luke Skywalker\n",
       "1  http://swapi.dev/api/films/2/  Luke Skywalker\n",
       "2  http://swapi.dev/api/films/3/  Luke Skywalker\n",
       "3  http://swapi.dev/api/films/6/  Luke Skywalker\n",
       "4  http://swapi.dev/api/films/1/           C-3PO"
      ]
     },
     "execution_count": 8,
     "metadata": {},
     "output_type": "execute_result"
    }
   ],
   "source": [
    "film_name = pd.json_normalize(people, 'films', ['name']).rename(columns = {0:'films'})\n",
    "film_name.head()"
   ]
  },
  {
   "cell_type": "code",
   "execution_count": 9,
   "metadata": {},
   "outputs": [
    {
     "data": {
      "text/html": [
       "<div>\n",
       "<style scoped>\n",
       "    .dataframe tbody tr th:only-of-type {\n",
       "        vertical-align: middle;\n",
       "    }\n",
       "\n",
       "    .dataframe tbody tr th {\n",
       "        vertical-align: top;\n",
       "    }\n",
       "\n",
       "    .dataframe thead th {\n",
       "        text-align: right;\n",
       "    }\n",
       "</style>\n",
       "<table border=\"1\" class=\"dataframe\">\n",
       "  <thead>\n",
       "    <tr style=\"text-align: right;\">\n",
       "      <th></th>\n",
       "      <th>vehicles</th>\n",
       "      <th>name</th>\n",
       "    </tr>\n",
       "  </thead>\n",
       "  <tbody>\n",
       "    <tr>\n",
       "      <th>0</th>\n",
       "      <td>http://swapi.dev/api/vehicles/14/</td>\n",
       "      <td>Luke Skywalker</td>\n",
       "    </tr>\n",
       "    <tr>\n",
       "      <th>1</th>\n",
       "      <td>http://swapi.dev/api/vehicles/30/</td>\n",
       "      <td>Luke Skywalker</td>\n",
       "    </tr>\n",
       "    <tr>\n",
       "      <th>2</th>\n",
       "      <td>http://swapi.dev/api/vehicles/30/</td>\n",
       "      <td>Leia Organa</td>\n",
       "    </tr>\n",
       "    <tr>\n",
       "      <th>3</th>\n",
       "      <td>http://swapi.dev/api/vehicles/38/</td>\n",
       "      <td>Obi-Wan Kenobi</td>\n",
       "    </tr>\n",
       "    <tr>\n",
       "      <th>4</th>\n",
       "      <td>http://swapi.dev/api/vehicles/44/</td>\n",
       "      <td>Anakin Skywalker</td>\n",
       "    </tr>\n",
       "  </tbody>\n",
       "</table>\n",
       "</div>"
      ],
      "text/plain": [
       "                            vehicles              name\n",
       "0  http://swapi.dev/api/vehicles/14/    Luke Skywalker\n",
       "1  http://swapi.dev/api/vehicles/30/    Luke Skywalker\n",
       "2  http://swapi.dev/api/vehicles/30/       Leia Organa\n",
       "3  http://swapi.dev/api/vehicles/38/    Obi-Wan Kenobi\n",
       "4  http://swapi.dev/api/vehicles/44/  Anakin Skywalker"
      ]
     },
     "execution_count": 9,
     "metadata": {},
     "output_type": "execute_result"
    }
   ],
   "source": [
    "vehicles_name = pd.json_normalize(people, 'vehicles', ['name']).rename(columns = {0:'vehicles'})\n",
    "vehicles_name.head()"
   ]
  },
  {
   "cell_type": "code",
   "execution_count": 10,
   "metadata": {},
   "outputs": [
    {
     "data": {
      "text/html": [
       "<div>\n",
       "<style scoped>\n",
       "    .dataframe tbody tr th:only-of-type {\n",
       "        vertical-align: middle;\n",
       "    }\n",
       "\n",
       "    .dataframe tbody tr th {\n",
       "        vertical-align: top;\n",
       "    }\n",
       "\n",
       "    .dataframe thead th {\n",
       "        text-align: right;\n",
       "    }\n",
       "</style>\n",
       "<table border=\"1\" class=\"dataframe\">\n",
       "  <thead>\n",
       "    <tr style=\"text-align: right;\">\n",
       "      <th></th>\n",
       "      <th>starships</th>\n",
       "      <th>name</th>\n",
       "    </tr>\n",
       "  </thead>\n",
       "  <tbody>\n",
       "    <tr>\n",
       "      <th>0</th>\n",
       "      <td>http://swapi.dev/api/starships/12/</td>\n",
       "      <td>Luke Skywalker</td>\n",
       "    </tr>\n",
       "    <tr>\n",
       "      <th>1</th>\n",
       "      <td>http://swapi.dev/api/starships/22/</td>\n",
       "      <td>Luke Skywalker</td>\n",
       "    </tr>\n",
       "    <tr>\n",
       "      <th>2</th>\n",
       "      <td>http://swapi.dev/api/starships/13/</td>\n",
       "      <td>Darth Vader</td>\n",
       "    </tr>\n",
       "    <tr>\n",
       "      <th>3</th>\n",
       "      <td>http://swapi.dev/api/starships/12/</td>\n",
       "      <td>Biggs Darklighter</td>\n",
       "    </tr>\n",
       "    <tr>\n",
       "      <th>4</th>\n",
       "      <td>http://swapi.dev/api/starships/48/</td>\n",
       "      <td>Obi-Wan Kenobi</td>\n",
       "    </tr>\n",
       "  </tbody>\n",
       "</table>\n",
       "</div>"
      ],
      "text/plain": [
       "                            starships               name\n",
       "0  http://swapi.dev/api/starships/12/     Luke Skywalker\n",
       "1  http://swapi.dev/api/starships/22/     Luke Skywalker\n",
       "2  http://swapi.dev/api/starships/13/        Darth Vader\n",
       "3  http://swapi.dev/api/starships/12/  Biggs Darklighter\n",
       "4  http://swapi.dev/api/starships/48/     Obi-Wan Kenobi"
      ]
     },
     "execution_count": 10,
     "metadata": {},
     "output_type": "execute_result"
    }
   ],
   "source": [
    "starships_name = pd.json_normalize(people, 'starships', ['name']).rename(columns = {0:'starships'})\n",
    "starships_name.head()"
   ]
  },
  {
   "cell_type": "markdown",
   "metadata": {},
   "source": [
    "We want to find the name of the oldest person (or robot or alien) and list the titles of all the films they appeared in. To find this information, we can use `birth_year` attribute. No death_year attribute, so we assume they are all alive. To find the oldest one, we just need to find the one that was borned earliest.\n",
    "> **BBY**: The battle has become known as the Battle of Yavin, and its date is used as a place-marker for events in the expanded Star Wars universe. Events before the Battle of Yavin are marked by BBY (\"Before the Battle of Yavin\"), and events that occur after are marked by ABY (\"After the Battle of Yavin\")"
   ]
  },
  {
   "cell_type": "code",
   "execution_count": 11,
   "metadata": {
    "scrolled": true
   },
   "outputs": [
    {
     "data": {
      "text/plain": [
       "['19BBY',\n",
       " '112BBY',\n",
       " '33BBY',\n",
       " '41.9BBY',\n",
       " '19BBY',\n",
       " '52BBY',\n",
       " '47BBY',\n",
       " 'unknown',\n",
       " '24BBY',\n",
       " '57BBY',\n",
       " '41.9BBY',\n",
       " '64BBY',\n",
       " '200BBY',\n",
       " '29BBY',\n",
       " '44BBY',\n",
       " '600BBY',\n",
       " '21BBY',\n",
       " 'unknown',\n",
       " '896BBY',\n",
       " '82BBY',\n",
       " '31.5BBY',\n",
       " '15BBY',\n",
       " '53BBY',\n",
       " '31BBY',\n",
       " '37BBY',\n",
       " '41BBY',\n",
       " '48BBY',\n",
       " 'unknown',\n",
       " '8BBY',\n",
       " 'unknown',\n",
       " '92BBY',\n",
       " 'unknown',\n",
       " '91BBY',\n",
       " '46BBY',\n",
       " '52BBY',\n",
       " 'unknown',\n",
       " 'unknown',\n",
       " 'unknown',\n",
       " 'unknown',\n",
       " 'unknown',\n",
       " '62BBY',\n",
       " '72BBY',\n",
       " '54BBY',\n",
       " 'unknown',\n",
       " '48BBY',\n",
       " 'unknown',\n",
       " 'unknown',\n",
       " 'unknown',\n",
       " 'unknown',\n",
       " '72BBY',\n",
       " '92BBY',\n",
       " 'unknown',\n",
       " 'unknown',\n",
       " 'unknown',\n",
       " 'unknown',\n",
       " 'unknown',\n",
       " '22BBY',\n",
       " 'unknown',\n",
       " 'unknown',\n",
       " 'unknown',\n",
       " '82BBY',\n",
       " 'unknown',\n",
       " '58BBY',\n",
       " '40BBY',\n",
       " 'unknown',\n",
       " '102BBY',\n",
       " '67BBY',\n",
       " '66BBY',\n",
       " 'unknown',\n",
       " 'unknown',\n",
       " 'unknown',\n",
       " 'unknown',\n",
       " 'unknown',\n",
       " 'unknown',\n",
       " 'unknown',\n",
       " 'unknown',\n",
       " 'unknown',\n",
       " 'unknown',\n",
       " 'unknown',\n",
       " 'unknown',\n",
       " 'unknown',\n",
       " 'unknown']"
      ]
     },
     "execution_count": 11,
     "metadata": {},
     "output_type": "execute_result"
    }
   ],
   "source": [
    "[p['birth_year'] for p in people]"
   ]
  },
  {
   "cell_type": "code",
   "execution_count": 12,
   "metadata": {},
   "outputs": [],
   "source": [
    "people_film_df = people_df.merge(film_name)\n",
    "people_film_df['birth_year'] = people_film_df['birth_year'].apply(lambda x: float(x[:-3]) if x != 'unknown' else np.nan)"
   ]
  },
  {
   "cell_type": "code",
   "execution_count": 13,
   "metadata": {},
   "outputs": [
    {
     "data": {
      "text/html": [
       "<div>\n",
       "<style scoped>\n",
       "    .dataframe tbody tr th:only-of-type {\n",
       "        vertical-align: middle;\n",
       "    }\n",
       "\n",
       "    .dataframe tbody tr th {\n",
       "        vertical-align: top;\n",
       "    }\n",
       "\n",
       "    .dataframe thead th {\n",
       "        text-align: right;\n",
       "    }\n",
       "</style>\n",
       "<table border=\"1\" class=\"dataframe\">\n",
       "  <thead>\n",
       "    <tr style=\"text-align: right;\">\n",
       "      <th></th>\n",
       "      <th>name</th>\n",
       "      <th>height</th>\n",
       "      <th>mass</th>\n",
       "      <th>hair_color</th>\n",
       "      <th>skin_color</th>\n",
       "      <th>eye_color</th>\n",
       "      <th>birth_year</th>\n",
       "      <th>gender</th>\n",
       "      <th>homeworld</th>\n",
       "      <th>species</th>\n",
       "      <th>created</th>\n",
       "      <th>edited</th>\n",
       "      <th>url</th>\n",
       "      <th>films</th>\n",
       "    </tr>\n",
       "  </thead>\n",
       "  <tbody>\n",
       "    <tr>\n",
       "      <th>58</th>\n",
       "      <td>Yoda</td>\n",
       "      <td>66</td>\n",
       "      <td>17</td>\n",
       "      <td>white</td>\n",
       "      <td>green</td>\n",
       "      <td>brown</td>\n",
       "      <td>896.0</td>\n",
       "      <td>male</td>\n",
       "      <td>http://swapi.dev/api/planets/28/</td>\n",
       "      <td>http://swapi.dev/api/species/6/</td>\n",
       "      <td>2014-12-15T12:26:01.042000Z</td>\n",
       "      <td>2014-12-20T21:17:50.345000Z</td>\n",
       "      <td>http://swapi.dev/api/people/20/</td>\n",
       "      <td>http://swapi.dev/api/films/2/</td>\n",
       "    </tr>\n",
       "  </tbody>\n",
       "</table>\n",
       "</div>"
      ],
      "text/plain": [
       "    name height mass hair_color skin_color eye_color  birth_year gender  \\\n",
       "58  Yoda     66   17      white      green     brown       896.0   male   \n",
       "\n",
       "                           homeworld                          species  \\\n",
       "58  http://swapi.dev/api/planets/28/  http://swapi.dev/api/species/6/   \n",
       "\n",
       "                        created                       edited  \\\n",
       "58  2014-12-15T12:26:01.042000Z  2014-12-20T21:17:50.345000Z   \n",
       "\n",
       "                                url                          films  \n",
       "58  http://swapi.dev/api/people/20/  http://swapi.dev/api/films/2/  "
      ]
     },
     "execution_count": 13,
     "metadata": {},
     "output_type": "execute_result"
    }
   ],
   "source": [
    "people_film_df.nlargest(1, 'birth_year')"
   ]
  },
  {
   "cell_type": "code",
   "execution_count": 14,
   "metadata": {},
   "outputs": [],
   "source": [
    "oldest_people_films = list(people_film_df[people_film_df.name == 'Yoda'].films)"
   ]
  },
  {
   "cell_type": "code",
   "execution_count": 15,
   "metadata": {},
   "outputs": [],
   "source": [
    "films_titles = [requests.get(url).json()['title'] for url in oldest_people_films]"
   ]
  },
  {
   "cell_type": "code",
   "execution_count": 16,
   "metadata": {},
   "outputs": [
    {
     "data": {
      "text/plain": [
       "['The Empire Strikes Back',\n",
       " 'Return of the Jedi',\n",
       " 'The Phantom Menace',\n",
       " 'Attack of the Clones',\n",
       " 'Revenge of the Sith']"
      ]
     },
     "execution_count": 16,
     "metadata": {},
     "output_type": "execute_result"
    }
   ],
   "source": [
    "films_titles"
   ]
  },
  {
   "cell_type": "markdown",
   "metadata": {},
   "source": [
    "***"
   ]
  },
  {
   "cell_type": "markdown",
   "metadata": {},
   "source": [
    "In `species` resource, we can find the average lifespan of each species. I would also like to show people of species that has longest lifespan, and list the films they appeared in."
   ]
  },
  {
   "cell_type": "code",
   "execution_count": 17,
   "metadata": {},
   "outputs": [],
   "source": [
    "base_url = 'http://swapi.dev/api/species/?page='\n",
    "i = 1\n",
    "species = []\n",
    "url = ''.join([base_url, str(i)])\n",
    "request = requests.get(url).json()\n",
    "while 'results' in request:\n",
    "    species += request['results']\n",
    "    i += 1\n",
    "    url = ''.join([base_url, str(i)])\n",
    "    request = requests.get(url).json() "
   ]
  },
  {
   "cell_type": "code",
   "execution_count": 18,
   "metadata": {},
   "outputs": [
    {
     "data": {
      "text/plain": [
       "{'name': 'Human',\n",
       " 'classification': 'mammal',\n",
       " 'designation': 'sentient',\n",
       " 'average_height': '180',\n",
       " 'skin_colors': 'caucasian, black, asian, hispanic',\n",
       " 'hair_colors': 'blonde, brown, black, red',\n",
       " 'eye_colors': 'brown, blue, green, hazel, grey, amber',\n",
       " 'average_lifespan': '120',\n",
       " 'homeworld': 'http://swapi.dev/api/planets/9/',\n",
       " 'language': 'Galactic Basic',\n",
       " 'people': ['http://swapi.dev/api/people/66/',\n",
       "  'http://swapi.dev/api/people/67/',\n",
       "  'http://swapi.dev/api/people/68/',\n",
       "  'http://swapi.dev/api/people/74/'],\n",
       " 'films': ['http://swapi.dev/api/films/1/',\n",
       "  'http://swapi.dev/api/films/2/',\n",
       "  'http://swapi.dev/api/films/3/',\n",
       "  'http://swapi.dev/api/films/4/',\n",
       "  'http://swapi.dev/api/films/5/',\n",
       "  'http://swapi.dev/api/films/6/'],\n",
       " 'created': '2014-12-10T13:52:11.567000Z',\n",
       " 'edited': '2014-12-20T21:36:42.136000Z',\n",
       " 'url': 'http://swapi.dev/api/species/1/'}"
      ]
     },
     "execution_count": 18,
     "metadata": {},
     "output_type": "execute_result"
    }
   ],
   "source": [
    "species[0]"
   ]
  },
  {
   "cell_type": "code",
   "execution_count": 19,
   "metadata": {},
   "outputs": [
    {
     "data": {
      "text/plain": [
       "37"
      ]
     },
     "execution_count": 19,
     "metadata": {},
     "output_type": "execute_result"
    }
   ],
   "source": [
    "len(species)"
   ]
  },
  {
   "cell_type": "code",
   "execution_count": 20,
   "metadata": {
    "scrolled": false
   },
   "outputs": [
    {
     "data": {
      "text/html": [
       "<div>\n",
       "<style scoped>\n",
       "    .dataframe tbody tr th:only-of-type {\n",
       "        vertical-align: middle;\n",
       "    }\n",
       "\n",
       "    .dataframe tbody tr th {\n",
       "        vertical-align: top;\n",
       "    }\n",
       "\n",
       "    .dataframe thead th {\n",
       "        text-align: right;\n",
       "    }\n",
       "</style>\n",
       "<table border=\"1\" class=\"dataframe\">\n",
       "  <thead>\n",
       "    <tr style=\"text-align: right;\">\n",
       "      <th></th>\n",
       "      <th>name</th>\n",
       "      <th>classification</th>\n",
       "      <th>designation</th>\n",
       "      <th>average_height</th>\n",
       "      <th>skin_colors</th>\n",
       "      <th>hair_colors</th>\n",
       "      <th>eye_colors</th>\n",
       "      <th>average_lifespan</th>\n",
       "      <th>homeworld</th>\n",
       "      <th>language</th>\n",
       "      <th>created</th>\n",
       "      <th>edited</th>\n",
       "      <th>url</th>\n",
       "    </tr>\n",
       "  </thead>\n",
       "  <tbody>\n",
       "    <tr>\n",
       "      <th>0</th>\n",
       "      <td>Human</td>\n",
       "      <td>mammal</td>\n",
       "      <td>sentient</td>\n",
       "      <td>180</td>\n",
       "      <td>caucasian, black, asian, hispanic</td>\n",
       "      <td>blonde, brown, black, red</td>\n",
       "      <td>brown, blue, green, hazel, grey, amber</td>\n",
       "      <td>120.0</td>\n",
       "      <td>http://swapi.dev/api/planets/9/</td>\n",
       "      <td>Galactic Basic</td>\n",
       "      <td>2014-12-10T13:52:11.567000Z</td>\n",
       "      <td>2014-12-20T21:36:42.136000Z</td>\n",
       "      <td>http://swapi.dev/api/species/1/</td>\n",
       "    </tr>\n",
       "    <tr>\n",
       "      <th>1</th>\n",
       "      <td>Droid</td>\n",
       "      <td>artificial</td>\n",
       "      <td>sentient</td>\n",
       "      <td>n/a</td>\n",
       "      <td>n/a</td>\n",
       "      <td>n/a</td>\n",
       "      <td>n/a</td>\n",
       "      <td>NaN</td>\n",
       "      <td>None</td>\n",
       "      <td>n/a</td>\n",
       "      <td>2014-12-10T15:16:16.259000Z</td>\n",
       "      <td>2014-12-20T21:36:42.139000Z</td>\n",
       "      <td>http://swapi.dev/api/species/2/</td>\n",
       "    </tr>\n",
       "    <tr>\n",
       "      <th>2</th>\n",
       "      <td>Wookie</td>\n",
       "      <td>mammal</td>\n",
       "      <td>sentient</td>\n",
       "      <td>210</td>\n",
       "      <td>gray</td>\n",
       "      <td>black, brown</td>\n",
       "      <td>blue, green, yellow, brown, golden, red</td>\n",
       "      <td>400.0</td>\n",
       "      <td>http://swapi.dev/api/planets/14/</td>\n",
       "      <td>Shyriiwook</td>\n",
       "      <td>2014-12-10T16:44:31.486000Z</td>\n",
       "      <td>2014-12-20T21:36:42.142000Z</td>\n",
       "      <td>http://swapi.dev/api/species/3/</td>\n",
       "    </tr>\n",
       "    <tr>\n",
       "      <th>3</th>\n",
       "      <td>Rodian</td>\n",
       "      <td>sentient</td>\n",
       "      <td>reptilian</td>\n",
       "      <td>170</td>\n",
       "      <td>green, blue</td>\n",
       "      <td>n/a</td>\n",
       "      <td>black</td>\n",
       "      <td>NaN</td>\n",
       "      <td>http://swapi.dev/api/planets/23/</td>\n",
       "      <td>Galatic Basic</td>\n",
       "      <td>2014-12-10T17:05:26.471000Z</td>\n",
       "      <td>2014-12-20T21:36:42.144000Z</td>\n",
       "      <td>http://swapi.dev/api/species/4/</td>\n",
       "    </tr>\n",
       "    <tr>\n",
       "      <th>4</th>\n",
       "      <td>Hutt</td>\n",
       "      <td>gastropod</td>\n",
       "      <td>sentient</td>\n",
       "      <td>300</td>\n",
       "      <td>green, brown, tan</td>\n",
       "      <td>n/a</td>\n",
       "      <td>yellow, red</td>\n",
       "      <td>1000.0</td>\n",
       "      <td>http://swapi.dev/api/planets/24/</td>\n",
       "      <td>Huttese</td>\n",
       "      <td>2014-12-10T17:12:50.410000Z</td>\n",
       "      <td>2014-12-20T21:36:42.146000Z</td>\n",
       "      <td>http://swapi.dev/api/species/5/</td>\n",
       "    </tr>\n",
       "  </tbody>\n",
       "</table>\n",
       "</div>"
      ],
      "text/plain": [
       "     name classification designation average_height  \\\n",
       "0   Human         mammal    sentient            180   \n",
       "1   Droid     artificial    sentient            n/a   \n",
       "2  Wookie         mammal    sentient            210   \n",
       "3  Rodian       sentient   reptilian            170   \n",
       "4    Hutt      gastropod    sentient            300   \n",
       "\n",
       "                         skin_colors                hair_colors  \\\n",
       "0  caucasian, black, asian, hispanic  blonde, brown, black, red   \n",
       "1                                n/a                        n/a   \n",
       "2                               gray               black, brown   \n",
       "3                        green, blue                        n/a   \n",
       "4                  green, brown, tan                        n/a   \n",
       "\n",
       "                                eye_colors  average_lifespan  \\\n",
       "0   brown, blue, green, hazel, grey, amber             120.0   \n",
       "1                                      n/a               NaN   \n",
       "2  blue, green, yellow, brown, golden, red             400.0   \n",
       "3                                    black               NaN   \n",
       "4                              yellow, red            1000.0   \n",
       "\n",
       "                          homeworld        language  \\\n",
       "0   http://swapi.dev/api/planets/9/  Galactic Basic   \n",
       "1                              None             n/a   \n",
       "2  http://swapi.dev/api/planets/14/      Shyriiwook   \n",
       "3  http://swapi.dev/api/planets/23/   Galatic Basic   \n",
       "4  http://swapi.dev/api/planets/24/         Huttese   \n",
       "\n",
       "                       created                       edited  \\\n",
       "0  2014-12-10T13:52:11.567000Z  2014-12-20T21:36:42.136000Z   \n",
       "1  2014-12-10T15:16:16.259000Z  2014-12-20T21:36:42.139000Z   \n",
       "2  2014-12-10T16:44:31.486000Z  2014-12-20T21:36:42.142000Z   \n",
       "3  2014-12-10T17:05:26.471000Z  2014-12-20T21:36:42.144000Z   \n",
       "4  2014-12-10T17:12:50.410000Z  2014-12-20T21:36:42.146000Z   \n",
       "\n",
       "                               url  \n",
       "0  http://swapi.dev/api/species/1/  \n",
       "1  http://swapi.dev/api/species/2/  \n",
       "2  http://swapi.dev/api/species/3/  \n",
       "3  http://swapi.dev/api/species/4/  \n",
       "4  http://swapi.dev/api/species/5/  "
      ]
     },
     "execution_count": 20,
     "metadata": {},
     "output_type": "execute_result"
    }
   ],
   "source": [
    "species_df = pd.json_normalize(species).drop(columns = ['people', 'films'])\n",
    "species_df['average_lifespan'] = (\n",
    "    species_df['average_lifespan'].\n",
    "    apply(lambda x: float(x) if x not in ['indefinite', 'unknown'] else np.nan)\n",
    ")\n",
    "species_df.head()"
   ]
  },
  {
   "cell_type": "code",
   "execution_count": 21,
   "metadata": {},
   "outputs": [
    {
     "data": {
      "text/html": [
       "<div>\n",
       "<style scoped>\n",
       "    .dataframe tbody tr th:only-of-type {\n",
       "        vertical-align: middle;\n",
       "    }\n",
       "\n",
       "    .dataframe tbody tr th {\n",
       "        vertical-align: top;\n",
       "    }\n",
       "\n",
       "    .dataframe thead th {\n",
       "        text-align: right;\n",
       "    }\n",
       "</style>\n",
       "<table border=\"1\" class=\"dataframe\">\n",
       "  <thead>\n",
       "    <tr style=\"text-align: right;\">\n",
       "      <th></th>\n",
       "      <th>people</th>\n",
       "      <th>name</th>\n",
       "    </tr>\n",
       "  </thead>\n",
       "  <tbody>\n",
       "    <tr>\n",
       "      <th>0</th>\n",
       "      <td>http://swapi.dev/api/people/66/</td>\n",
       "      <td>Human</td>\n",
       "    </tr>\n",
       "    <tr>\n",
       "      <th>1</th>\n",
       "      <td>http://swapi.dev/api/people/67/</td>\n",
       "      <td>Human</td>\n",
       "    </tr>\n",
       "    <tr>\n",
       "      <th>2</th>\n",
       "      <td>http://swapi.dev/api/people/68/</td>\n",
       "      <td>Human</td>\n",
       "    </tr>\n",
       "    <tr>\n",
       "      <th>3</th>\n",
       "      <td>http://swapi.dev/api/people/74/</td>\n",
       "      <td>Human</td>\n",
       "    </tr>\n",
       "    <tr>\n",
       "      <th>4</th>\n",
       "      <td>http://swapi.dev/api/people/2/</td>\n",
       "      <td>Droid</td>\n",
       "    </tr>\n",
       "  </tbody>\n",
       "</table>\n",
       "</div>"
      ],
      "text/plain": [
       "                            people   name\n",
       "0  http://swapi.dev/api/people/66/  Human\n",
       "1  http://swapi.dev/api/people/67/  Human\n",
       "2  http://swapi.dev/api/people/68/  Human\n",
       "3  http://swapi.dev/api/people/74/  Human\n",
       "4   http://swapi.dev/api/people/2/  Droid"
      ]
     },
     "execution_count": 21,
     "metadata": {},
     "output_type": "execute_result"
    }
   ],
   "source": [
    "people_species = pd.json_normalize(species, 'people', ['name']).rename(columns = {0:'people'})\n",
    "people_species.head()"
   ]
  },
  {
   "cell_type": "code",
   "execution_count": 22,
   "metadata": {},
   "outputs": [
    {
     "data": {
      "text/html": [
       "<div>\n",
       "<style scoped>\n",
       "    .dataframe tbody tr th:only-of-type {\n",
       "        vertical-align: middle;\n",
       "    }\n",
       "\n",
       "    .dataframe tbody tr th {\n",
       "        vertical-align: top;\n",
       "    }\n",
       "\n",
       "    .dataframe thead th {\n",
       "        text-align: right;\n",
       "    }\n",
       "</style>\n",
       "<table border=\"1\" class=\"dataframe\">\n",
       "  <thead>\n",
       "    <tr style=\"text-align: right;\">\n",
       "      <th></th>\n",
       "      <th>films</th>\n",
       "      <th>name</th>\n",
       "    </tr>\n",
       "  </thead>\n",
       "  <tbody>\n",
       "    <tr>\n",
       "      <th>0</th>\n",
       "      <td>http://swapi.dev/api/films/1/</td>\n",
       "      <td>Human</td>\n",
       "    </tr>\n",
       "    <tr>\n",
       "      <th>1</th>\n",
       "      <td>http://swapi.dev/api/films/2/</td>\n",
       "      <td>Human</td>\n",
       "    </tr>\n",
       "    <tr>\n",
       "      <th>2</th>\n",
       "      <td>http://swapi.dev/api/films/3/</td>\n",
       "      <td>Human</td>\n",
       "    </tr>\n",
       "    <tr>\n",
       "      <th>3</th>\n",
       "      <td>http://swapi.dev/api/films/4/</td>\n",
       "      <td>Human</td>\n",
       "    </tr>\n",
       "    <tr>\n",
       "      <th>4</th>\n",
       "      <td>http://swapi.dev/api/films/5/</td>\n",
       "      <td>Human</td>\n",
       "    </tr>\n",
       "  </tbody>\n",
       "</table>\n",
       "</div>"
      ],
      "text/plain": [
       "                           films   name\n",
       "0  http://swapi.dev/api/films/1/  Human\n",
       "1  http://swapi.dev/api/films/2/  Human\n",
       "2  http://swapi.dev/api/films/3/  Human\n",
       "3  http://swapi.dev/api/films/4/  Human\n",
       "4  http://swapi.dev/api/films/5/  Human"
      ]
     },
     "execution_count": 22,
     "metadata": {},
     "output_type": "execute_result"
    }
   ],
   "source": [
    "film_species = pd.json_normalize(species, 'films', ['name']).rename(columns = {0:'films'})\n",
    "film_species.head()"
   ]
  },
  {
   "cell_type": "code",
   "execution_count": 23,
   "metadata": {},
   "outputs": [
    {
     "data": {
      "text/html": [
       "<div>\n",
       "<style scoped>\n",
       "    .dataframe tbody tr th:only-of-type {\n",
       "        vertical-align: middle;\n",
       "    }\n",
       "\n",
       "    .dataframe tbody tr th {\n",
       "        vertical-align: top;\n",
       "    }\n",
       "\n",
       "    .dataframe thead th {\n",
       "        text-align: right;\n",
       "    }\n",
       "</style>\n",
       "<table border=\"1\" class=\"dataframe\">\n",
       "  <thead>\n",
       "    <tr style=\"text-align: right;\">\n",
       "      <th></th>\n",
       "      <th>name</th>\n",
       "      <th>classification</th>\n",
       "      <th>designation</th>\n",
       "      <th>average_height</th>\n",
       "      <th>skin_colors</th>\n",
       "      <th>hair_colors</th>\n",
       "      <th>eye_colors</th>\n",
       "      <th>average_lifespan</th>\n",
       "      <th>homeworld</th>\n",
       "      <th>language</th>\n",
       "      <th>created</th>\n",
       "      <th>edited</th>\n",
       "      <th>url</th>\n",
       "    </tr>\n",
       "  </thead>\n",
       "  <tbody>\n",
       "    <tr>\n",
       "      <th>4</th>\n",
       "      <td>Hutt</td>\n",
       "      <td>gastropod</td>\n",
       "      <td>sentient</td>\n",
       "      <td>300</td>\n",
       "      <td>green, brown, tan</td>\n",
       "      <td>n/a</td>\n",
       "      <td>yellow, red</td>\n",
       "      <td>1000.0</td>\n",
       "      <td>http://swapi.dev/api/planets/24/</td>\n",
       "      <td>Huttese</td>\n",
       "      <td>2014-12-10T17:12:50.410000Z</td>\n",
       "      <td>2014-12-20T21:36:42.146000Z</td>\n",
       "      <td>http://swapi.dev/api/species/5/</td>\n",
       "    </tr>\n",
       "  </tbody>\n",
       "</table>\n",
       "</div>"
      ],
      "text/plain": [
       "   name classification designation average_height        skin_colors  \\\n",
       "4  Hutt      gastropod    sentient            300  green, brown, tan   \n",
       "\n",
       "  hair_colors   eye_colors  average_lifespan  \\\n",
       "4         n/a  yellow, red            1000.0   \n",
       "\n",
       "                          homeworld language                      created  \\\n",
       "4  http://swapi.dev/api/planets/24/  Huttese  2014-12-10T17:12:50.410000Z   \n",
       "\n",
       "                        edited                              url  \n",
       "4  2014-12-20T21:36:42.146000Z  http://swapi.dev/api/species/5/  "
      ]
     },
     "execution_count": 23,
     "metadata": {},
     "output_type": "execute_result"
    }
   ],
   "source": [
    "species_df.nlargest(1, 'average_lifespan')"
   ]
  },
  {
   "cell_type": "code",
   "execution_count": 24,
   "metadata": {},
   "outputs": [],
   "source": [
    "p = (people_species[people_species.name == 'Hutt'].people)"
   ]
  },
  {
   "cell_type": "code",
   "execution_count": 25,
   "metadata": {},
   "outputs": [],
   "source": [
    "p_name = [requests.get(url).json()['name'] for url in p]"
   ]
  },
  {
   "cell_type": "code",
   "execution_count": 26,
   "metadata": {},
   "outputs": [
    {
     "data": {
      "text/plain": [
       "['Jabba Desilijic Tiure']"
      ]
     },
     "execution_count": 26,
     "metadata": {},
     "output_type": "execute_result"
    }
   ],
   "source": [
    "p_name"
   ]
  },
  {
   "cell_type": "code",
   "execution_count": 27,
   "metadata": {},
   "outputs": [],
   "source": [
    "f = list(film_species[film_species.name == 'Hutt'].films)"
   ]
  },
  {
   "cell_type": "code",
   "execution_count": 28,
   "metadata": {},
   "outputs": [],
   "source": [
    "f_title = [requests.get(url).json()['title'] for url in f]"
   ]
  },
  {
   "cell_type": "code",
   "execution_count": 29,
   "metadata": {},
   "outputs": [
    {
     "data": {
      "text/plain": [
       "['A New Hope', 'Return of the Jedi']"
      ]
     },
     "execution_count": 29,
     "metadata": {},
     "output_type": "execute_result"
    }
   ],
   "source": [
    "f_title"
   ]
  },
  {
   "cell_type": "markdown",
   "metadata": {},
   "source": [
    "## Mongdb query"
   ]
  },
  {
   "cell_type": "code",
   "execution_count": 30,
   "metadata": {},
   "outputs": [],
   "source": [
    "from pymongo import MongoClient"
   ]
  },
  {
   "cell_type": "code",
   "execution_count": 31,
   "metadata": {},
   "outputs": [],
   "source": [
    "client = MongoClient('mongodb:27017')\n",
    "client.drop_database('starwars')\n",
    "db = client.starwars"
   ]
  },
  {
   "cell_type": "code",
   "execution_count": 32,
   "metadata": {},
   "outputs": [],
   "source": [
    "def get_nested(d):\n",
    "    url = ''.join(d['species'])\n",
    "    if len(url) > 0:\n",
    "        d['species'] = requests.get(url).json()\n",
    "    else:\n",
    "        d['species'] = ''\n",
    "        \n",
    "    urls = d['films']\n",
    "    starships = [requests.get(url).json() for url in urls]\n",
    "    d['films']  = starships\n",
    "    \n",
    "    return d"
   ]
  },
  {
   "cell_type": "code",
   "execution_count": 33,
   "metadata": {},
   "outputs": [],
   "source": [
    "[get_nested(p) for p in people]\n",
    "pass"
   ]
  },
  {
   "cell_type": "markdown",
   "metadata": {},
   "source": [
    "To make life eaiser, I trim the data to simplify the mongodb query. "
   ]
  },
  {
   "cell_type": "code",
   "execution_count": 34,
   "metadata": {},
   "outputs": [],
   "source": [
    "def trim_data(d):\n",
    "    # keep only film title\n",
    "    if len(d['films']) > 0:\n",
    "        d['films_titles'] = [d['films'][i]['title'] for i in range(len(d['films']))]\n",
    "    d['films'] = ''\n",
    "    \n",
    "    # transform birth year to float\n",
    "    if d['birth_year'] != 'unknown':\n",
    "        d['b_year'] = float(d['birth_year'][:-3])\n",
    "        \n",
    "    # transform avg lifespan of species to float\n",
    "    if d['species'] != '':\n",
    "        if d['species']['average_lifespan'] not in ['unknown', 'indefinite']:\n",
    "            d['avg_lifespan'] = float(d['species']['average_lifespan'])\n",
    "    d['species'] = ''\n",
    "    \n",
    "    return d"
   ]
  },
  {
   "cell_type": "code",
   "execution_count": 35,
   "metadata": {},
   "outputs": [],
   "source": [
    "[trim_data(p) for p in people]\n",
    "pass"
   ]
  },
  {
   "cell_type": "code",
   "execution_count": 36,
   "metadata": {},
   "outputs": [
    {
     "data": {
      "text/plain": [
       "{'name': 'Luke Skywalker',\n",
       " 'height': '172',\n",
       " 'mass': '77',\n",
       " 'hair_color': 'blond',\n",
       " 'skin_color': 'fair',\n",
       " 'eye_color': 'blue',\n",
       " 'birth_year': '19BBY',\n",
       " 'gender': 'male',\n",
       " 'homeworld': 'http://swapi.dev/api/planets/1/',\n",
       " 'films': '',\n",
       " 'species': '',\n",
       " 'vehicles': ['http://swapi.dev/api/vehicles/14/',\n",
       "  'http://swapi.dev/api/vehicles/30/'],\n",
       " 'starships': ['http://swapi.dev/api/starships/12/',\n",
       "  'http://swapi.dev/api/starships/22/'],\n",
       " 'created': '2014-12-09T13:50:51.644000Z',\n",
       " 'edited': '2014-12-20T21:17:56.891000Z',\n",
       " 'url': 'http://swapi.dev/api/people/1/',\n",
       " 'films_titles': ['A New Hope',\n",
       "  'The Empire Strikes Back',\n",
       "  'Return of the Jedi',\n",
       "  'Revenge of the Sith'],\n",
       " 'b_year': 19.0}"
      ]
     },
     "execution_count": 36,
     "metadata": {},
     "output_type": "execute_result"
    }
   ],
   "source": [
    "people[0]"
   ]
  },
  {
   "cell_type": "code",
   "execution_count": 38,
   "metadata": {},
   "outputs": [],
   "source": [
    "people_ = db.people_\n",
    "result = people_.insert_many(people)"
   ]
  },
  {
   "cell_type": "code",
   "execution_count": 39,
   "metadata": {},
   "outputs": [
    {
     "name": "stdout",
     "output_type": "stream",
     "text": [
      "{'name': 'Yoda', 'films_titles': ['The Empire Strikes Back', 'Return of the Jedi', 'The Phantom Menace', 'Attack of the Clones', 'Revenge of the Sith']}\n"
     ]
    }
   ],
   "source": [
    "for x in people_.find(\n",
    "    # search criteria\n",
    "    {},\n",
    "    # values to return\n",
    "    {'_id': False,\n",
    "     'name': True, \n",
    "     'films_titles': True\n",
    "    }\n",
    ").sort('b_year', -1).limit(1):\n",
    "    print(x)"
   ]
  },
  {
   "cell_type": "code",
   "execution_count": 40,
   "metadata": {},
   "outputs": [
    {
     "name": "stdout",
     "output_type": "stream",
     "text": [
      "{'name': 'Jabba Desilijic Tiure', 'films_titles': ['A New Hope', 'Return of the Jedi', 'The Phantom Menace']}\n"
     ]
    }
   ],
   "source": [
    "for x in people_.find(\n",
    "    # search criteria\n",
    "    {},\n",
    "    # values to return\n",
    "    {'_id': False,\n",
    "     'name': True, \n",
    "     'films_titles': True\n",
    "    }\n",
    ").sort('avg_lifespan', -1).limit(1):\n",
    "    print(x)"
   ]
  },
  {
   "cell_type": "code",
   "execution_count": null,
   "metadata": {},
   "outputs": [],
   "source": []
  }
 ],
 "metadata": {
  "kernelspec": {
   "display_name": "Python 3",
   "language": "python",
   "name": "python3"
  },
  "language_info": {
   "codemirror_mode": {
    "name": "ipython",
    "version": 3
   },
   "file_extension": ".py",
   "mimetype": "text/x-python",
   "name": "python",
   "nbconvert_exporter": "python",
   "pygments_lexer": "ipython3",
   "version": "3.7.8"
  }
 },
 "nbformat": 4,
 "nbformat_minor": 4
}
